{
 "cells": [
  {
   "cell_type": "code",
   "execution_count": 1,
   "id": "c8be655e",
   "metadata": {},
   "outputs": [],
   "source": [
    "import pandas as pd\n",
    "import os\n",
    "from warnings import filterwarnings\n",
    "filterwarnings('ignore')\n",
    "import numpy as np\n",
    "import matplotlib.pyplot as plt\n",
    "\n",
    "\n",
    "t = '300'\n",
    "distance = '0.92'\n",
    "d = round(float(distance)*10,2)\n",
    "\n",
    "input_file = f\"/Users/arghavan/lab/pair_energy/energy_results/{distance}_NumberDensity.dat\"\n",
    "# output_file = f\"/Users/arghavan/lab/hp-results/gist-plates-{t}K/{distance}/{d}-gist-output_parsed.dat\"\n",
    "# os.makedirs(os.path.dirname(output_file), exist_ok=True)\n",
    "\n"
   ]
  },
  {
   "cell_type": "code",
   "execution_count": null,
   "id": "9b3a8496",
   "metadata": {},
   "outputs": [],
   "source": [
    "cols = ['']\n",
    "df = pd.read_csv(input_file, delim_whitespace=True, names=cols, skiprows=2, comment='#')\n"
   ]
  },
  {
   "cell_type": "code",
   "execution_count": null,
   "id": "4d2abbe4",
   "metadata": {},
   "outputs": [],
   "source": []
  }
 ],
 "metadata": {
  "kernelspec": {
   "display_name": "lab",
   "language": "python",
   "name": "python3"
  },
  "language_info": {
   "codemirror_mode": {
    "name": "ipython",
    "version": 3
   },
   "file_extension": ".py",
   "mimetype": "text/x-python",
   "name": "python",
   "nbconvert_exporter": "python",
   "pygments_lexer": "ipython3",
   "version": "3.10.17"
  }
 },
 "nbformat": 4,
 "nbformat_minor": 5
}
