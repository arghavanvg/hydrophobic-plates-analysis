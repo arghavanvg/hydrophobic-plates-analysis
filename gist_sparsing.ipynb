{
 "cells": [
  {
   "cell_type": "code",
   "execution_count": 38,
   "id": "6b2f1300",
   "metadata": {},
   "outputs": [],
   "source": [
    "import pandas as pd\n",
    "import os\n",
    "from warnings import filterwarnings\n",
    "filterwarnings('ignore')\n",
    "\n",
    "t = '300'\n",
    "distance = '0.92'\n",
    "d = round(float(distance)*10,2)\n",
    "\n",
    "input_file = f\"/Users/arghavan/Graduate Center Dropbox/Arghavan Vedadi Gargari/MyFiles/GIST_data/{t}K_{distance}/gZ-output.dat\"\n",
    "output_file = f\"/Users/arghavan/lab/hp-results/gist-plates-{t}K/{distance}/{d}-gist-output_parsed.dat\"\n",
    "os.makedirs(os.path.dirname(output_file), exist_ok=True)\n",
    "\n"
   ]
  },
  {
   "cell_type": "code",
   "execution_count": 40,
   "id": "aa0c8576",
   "metadata": {},
   "outputs": [
    {
     "name": "stdout",
     "output_type": "stream",
     "text": [
      "Saved 311040 voxels to '/Users/arghavan/lab/hp-results/gist-plates-300K/0.92/9.2-gist-output_parsed.dat'.\n"
     ]
    }
   ],
   "source": [
    "\n",
    "x_correction = 2.78 #Å\n",
    "meniscus_correction = 4.00 #Å\n",
    "voxel_size = 0.1  # Å\n",
    "x_center = 25.00 #Å\n",
    "\n",
    "x_min, x_max = x_center - d/2 + x_correction, x_center + d/2 - x_correction\n",
    "y_min, y_max = 16.83 + meniscus_correction, 33.93 - meniscus_correction\n",
    "z_min, z_max = 31.19 + meniscus_correction, 48.81 - meniscus_correction\n",
    "\n",
    "\n",
    "with open(input_file) as f:\n",
    "    lines = f.readlines()\n",
    "header_line = lines[1].strip()\n",
    "cols = header_line.split() \n",
    "\n",
    "df = pd.read_csv(input_file, delim_whitespace=True, names=cols, skiprows=2, comment='#')\n",
    "\n",
    "\n",
    "# -----------------------------------\n",
    "half_length = voxel_size / 2\n",
    "\n",
    "x_coords = (df[\"xcoord\"] >= x_min + half_length) & (df[\"xcoord\"] <= x_max - half_length)\n",
    "y_coords = (df[\"ycoord\"] >= y_min + half_length) & (df[\"ycoord\"] <= y_max - half_length)\n",
    "z_coords = (df[\"zcoord\"] >= z_min + half_length) & (df[\"zcoord\"] <= z_max - half_length)\n",
    "\n",
    "\n",
    "subset = df[x_coords & y_coords & z_coords]\n",
    "\n",
    "\n",
    "subset.to_csv(output_file, sep=\"\\t\", index=False, float_format=\"%.8f\")\n",
    "\n",
    "print(f\"Saved {len(subset)} voxels to '{output_file}'.\")"
   ]
  },
  {
   "cell_type": "code",
   "execution_count": 41,
   "id": "6d7c0744",
   "metadata": {},
   "outputs": [
    {
     "data": {
      "text/plain": [
       "['voxel',\n",
       " 'xcoord',\n",
       " 'ycoord',\n",
       " 'zcoord',\n",
       " 'population',\n",
       " 'g_O',\n",
       " 'g_H',\n",
       " 'dTStrans-dens(kcal/mol/A^3)',\n",
       " 'dTStrans-norm(kcal/mol)',\n",
       " 'dTSorient-dens(kcal/mol/A^3)',\n",
       " 'dTSorient-norm(kcal/mol)',\n",
       " 'dTSsix-dens(kcal/mol/A^3)',\n",
       " 'dTSsix-norm(kcal/mol)',\n",
       " 'Esw-dens(kcal/mol/A^3)',\n",
       " 'Esw-norm(kcal/mol)',\n",
       " 'Eww-dens(kcal/mol/A^3)',\n",
       " 'Eww-norm-unref(kcal/mol)',\n",
       " 'Dipole_x-dens(D/A^3)',\n",
       " 'Dipole_y-dens(D/A^3)',\n",
       " 'Dipole_z-dens(D/A^3)',\n",
       " 'Dipole-dens(D/A^3)',\n",
       " 'neighbor-dens(1/A^3)',\n",
       " 'neighbor-norm',\n",
       " 'order-norm']"
      ]
     },
     "execution_count": 41,
     "metadata": {},
     "output_type": "execute_result"
    }
   ],
   "source": [
    "cols"
   ]
  },
  {
   "cell_type": "code",
   "execution_count": null,
   "id": "68e26ccd",
   "metadata": {},
   "outputs": [],
   "source": []
  }
 ],
 "metadata": {
  "kernelspec": {
   "display_name": "lab",
   "language": "python",
   "name": "python3"
  },
  "language_info": {
   "codemirror_mode": {
    "name": "ipython",
    "version": 3
   },
   "file_extension": ".py",
   "mimetype": "text/x-python",
   "name": "python",
   "nbconvert_exporter": "python",
   "pygments_lexer": "ipython3",
   "version": "3.10.17"
  }
 },
 "nbformat": 4,
 "nbformat_minor": 5
}
