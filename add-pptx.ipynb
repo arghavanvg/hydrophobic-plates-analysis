{
 "cells": [
  {
   "cell_type": "code",
   "execution_count": null,
   "id": "432ae15a",
   "metadata": {},
   "outputs": [
    {
     "name": "stdout",
     "output_type": "stream",
     "text": [
      "✅ PowerPoint saved to /Users/arghavan/Graduate Center Dropbox/Arghavan Vedadi Gargari/Hydrophobic Plates/Arghavan/all_plots.pptx\n"
     ]
    }
   ],
   "source": [
    "from pptx import Presentation\n",
    "from pptx.util import Inches\n",
    "import os\n",
    "from PIL import Image\n",
    "\n",
    "img_folder = \"/Users/arghavan/Graduate Center Dropbox/Arghavan Vedadi Gargari/Hydrophobic Plates/Arghavan/gZ/fixed_axis_plots/\"\n",
    "\n",
    "# Create a new PowerPoint presentation\n",
    "prs = Presentation()\n",
    "\n",
    "\n",
    "for filename in sorted(os.listdir(img_folder)):\n",
    "    if filename.lower().endswith(('.png', '.jpg', '.jpeg', '.gif', '.bmp', '.tiff')):\n",
    "        slide = prs.slides.add_slide(prs.slide_layouts[6])  # Blank slide layout\n",
    "        img_path = os.path.join(img_folder, filename)\n",
    "        \n",
    "        # Add the picture centered on the slide\n",
    "        slide.shapes.add_picture(img_path, Inches(0), Inches(0), width=prs.slide_width)\n",
    "        \n",
    "\n",
    "output_file = os.path.join(img_folder, \"/Users/arghavan/Graduate Center Dropbox/Arghavan Vedadi Gargari/Hydrophobic Plates/Arghavan/all_plots.pptx\")\n",
    "prs.save(output_file)\n",
    "print(f\"PowerPoint saved to {output_file}\")\n"
   ]
  },
  {
   "cell_type": "code",
   "execution_count": 3,
   "id": "086aca0c",
   "metadata": {},
   "outputs": [],
   "source": [
    "from pptx import Presentation\n",
    "from pptx.util import Inches\n",
    "import os\n",
    "from PIL import Image\n",
    "\n",
    "def add_images(prs, folder):\n",
    "    \"\"\"Add all images from a folder into an existing presentation.\"\"\"\n",
    "\n",
    "    for filename in sorted(os.listdir(folder)):\n",
    "        if filename.lower().endswith(('.png', '.jpg', '.jpeg', '.gif', '.bmp', '.tiff')):\n",
    "            slide = prs.slides.add_slide(prs.slide_layouts[6])\n",
    "            img_path = os.path.join(folder, filename)\n",
    "\n",
    "            img = Image.open(img_path)\n",
    "            width, height = img.size\n",
    "            ratio = min(prs.slide_width / width, prs.slide_height / height)\n",
    "            new_width = int(width * ratio)\n",
    "            new_height = int(height * ratio)\n",
    "            left = int((prs.slide_width - new_width) / 2)\n",
    "            top = int((prs.slide_height - new_height) / 2)\n",
    "\n",
    "            slide.shapes.add_picture(img_path, left, top, width=new_width, height=new_height)\n",
    "\n",
    "\n",
    "ppt_file = \"/Users/arghavan/Graduate Center Dropbox/Arghavan Vedadi Gargari/Hydrophobic Plates/Arghavan/all_plots.pptx\"\n",
    "\n",
    "prs = Presentation(ppt_file)\n",
    "\n",
    "PairwiseE_folder = \"/Users/arghavan/Graduate Center Dropbox/Arghavan Vedadi Gargari/Hydrophobic Plates/Arghavan/Pairwise Energies/300K_plots/probability/\"\n",
    "\n",
    "add_images(prs, PairwiseE_folder)\n",
    "\n",
    "prs.save(ppt_file)\n"
   ]
  },
  {
   "cell_type": "code",
   "execution_count": null,
   "id": "f00a075a",
   "metadata": {},
   "outputs": [],
   "source": []
  }
 ],
 "metadata": {
  "kernelspec": {
   "display_name": "lab",
   "language": "python",
   "name": "python3"
  },
  "language_info": {
   "codemirror_mode": {
    "name": "ipython",
    "version": 3
   },
   "file_extension": ".py",
   "mimetype": "text/x-python",
   "name": "python",
   "nbconvert_exporter": "python",
   "pygments_lexer": "ipython3",
   "version": "3.10.17"
  }
 },
 "nbformat": 4,
 "nbformat_minor": 5
}
